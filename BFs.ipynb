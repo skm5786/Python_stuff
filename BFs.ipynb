{
 "cells": [
  {
   "cell_type": "code",
   "execution_count": 2,
   "id": "2352bfb3",
   "metadata": {},
   "outputs": [],
   "source": [
    "from queue import Queue\n",
    "adj_list={\n",
    "    'a':['b','d'],\n",
    "    'b':['a','c'],\n",
    "    'c':['b'],\n",
    "    'd':['a','e','f'],\n",
    "    'e':['d','f','g'],\n",
    "    'f':['d','e','h'],\n",
    "    'g':['e','h'],\n",
    "    'h':['g','f']\n",
    "}\n",
    "import fontstyle"
   ]
  },
  {
   "cell_type": "code",
   "execution_count": 3,
   "id": "c21a02ff",
   "metadata": {},
   "outputs": [
    {
     "name": "stdout",
     "output_type": "stream",
     "text": [
      "{'a': False, 'b': False, 'c': False, 'd': False, 'e': False, 'f': False, 'g': False, 'h': False}\n",
      "{'a': -1, 'b': -1, 'c': -1, 'd': -1, 'e': -1, 'f': -1, 'g': -1, 'h': -1}\n",
      "{'a': None, 'b': None, 'c': None, 'd': None, 'e': None, 'f': None, 'g': None, 'h': None}\n",
      "\n",
      "\n",
      "\n",
      "bfs output:\n",
      "\u001b[1m\u001b[3m\u001b[91mabdcefgh\u001b[0m\n"
     ]
    }
   ],
   "source": [
    "#initialization\n",
    "visited={}\n",
    "level={}\n",
    "parent={}\n",
    "bfs_output=''\n",
    "queue=Queue()\n",
    "for node in adj_list.keys():\n",
    "    visited[node]=False\n",
    "    level[node]=-1\n",
    "    parent[node]=None\n",
    "print(visited)\n",
    "print(level)\n",
    "print(parent)\n",
    "#implementation\n",
    "s='a'\n",
    "visited[s]=True\n",
    "level[s]=0\n",
    "\n",
    "queue.put(s)\n",
    "while not queue.empty():\n",
    "    u=queue.get()\n",
    "    bfs_output+=u\n",
    "    for v in adj_list[u]:\n",
    "        if visited[v]==False:\n",
    "                visited[v]=True\n",
    "                level[v]=level[u]+1\n",
    "                parent[v]=u\n",
    "                queue.put(v)\n",
    "        \n",
    "print('\\n\\n\\nbfs output:')\n",
    "text=fontstyle.apply(bfs_output,'bold/Italic/red')\n",
    "print(text)"
   ]
  },
  {
   "cell_type": "code",
   "execution_count": null,
   "id": "43ddd9d9",
   "metadata": {},
   "outputs": [],
   "source": []
  }
 ],
 "metadata": {
  "kernelspec": {
   "display_name": "Python 3 (ipykernel)",
   "language": "python",
   "name": "python3"
  },
  "language_info": {
   "codemirror_mode": {
    "name": "ipython",
    "version": 3
   },
   "file_extension": ".py",
   "mimetype": "text/x-python",
   "name": "python",
   "nbconvert_exporter": "python",
   "pygments_lexer": "ipython3",
   "version": "3.9.7"
  }
 },
 "nbformat": 4,
 "nbformat_minor": 5
}
