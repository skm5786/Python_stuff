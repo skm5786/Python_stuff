{
 "cells": [
  {
   "cell_type": "code",
   "execution_count": 1,
   "id": "1e6cd046",
   "metadata": {},
   "outputs": [],
   "source": [
    "import matplotlib.pyplot as plt\n",
    "import random\n",
    "import timeit\n",
    "import time\n",
    "import numpy as np\n"
   ]
  },
  {
   "cell_type": "code",
   "execution_count": 2,
   "id": "864435d1",
   "metadata": {},
   "outputs": [],
   "source": [
    "def bubblesort(arr):\n",
    "    n = len(arr)\n",
    "    swapped = False\n",
    "    for i in range(n-1):\n",
    "        for j in range(0, n-i-1):\n",
    "            if arr[j] > arr[j + 1]:\n",
    "                swapped = True\n",
    "                arr[j], arr[j + 1] = arr[j + 1], arr[j]\n",
    "         \n",
    "        if not swapped:\n",
    "            return\n",
    " "
   ]
  },
  {
   "cell_type": "code",
   "execution_count": 3,
   "id": "6798003b",
   "metadata": {},
   "outputs": [
    {
     "name": "stdout",
     "output_type": "stream",
     "text": [
      "[458, 469, 141, 204, 380, 236, 497, 369, 409, 337, 330, 401, 51, 249, 433, 480, 355, 55, 54, 468, 364, 265, 426, 299, 357, 362, 215, 39, 486, 122, 209, 430, 121, 488, 479, 340, 424, 288, 33, 126, 309, 61, 137, 432, 150, 32, 284, 435, 446, 111, 123, 476, 74, 415, 9, 12, 382, 334, 462, 386, 203, 181, 216, 87, 166, 187, 414, 475, 16, 21, 101, 200, 484, 29, 279, 308, 323, 436, 482, 341, 248, 300, 391, 106, 320, 459, 342, 378, 197, 256, 65, 305, 331, 169, 255, 363, 239, 394, 210, 162, 233, 289, 231, 301, 370, 274, 321, 345, 365, 392, 455, 443, 328, 127, 453, 118, 241, 157, 332, 417, 88, 81, 464, 117, 374, 14, 201, 354, 125, 237, 312, 478, 161, 136, 333, 303, 115, 338, 343, 368, 172, 129, 4, 373, 465, 421, 13, 329, 152, 449, 494, 171, 247, 58, 292, 11, 318, 310, 56, 404, 267, 69, 218, 499, 103, 5, 389, 94, 397, 481, 179, 413, 66, 191, 457, 393, 293, 86, 27, 202, 184, 18, 43, 238, 286, 57, 173, 405, 228, 83, 291, 387, 221, 311, 437, 213, 99, 205, 266, 427, 406, 95, 77, 50, 206, 408, 158, 220, 487, 104, 262, 440, 441, 147, 40, 258, 396, 192, 276, 493, 428, 227, 128, 485, 283, 439, 224, 130, 24, 93, 377, 244, 91, 263, 159, 420, 240, 246, 60, 109, 183, 498, 388, 100, 164, 358, 277, 447, 145, 72, 400, 196, 226, 49, 254, 471, 434, 325, 297, 76, 163, 144, 317, 278, 398, 316, 140, 180, 182, 176, 444, 44, 47, 384, 17, 167, 135, 186, 403, 170, 450, 349, 273, 105, 257, 0, 35, 489, 154, 42, 149, 31, 281, 64, 155, 59, 474, 73, 411, 168, 346, 375, 422, 295, 442, 412, 229, 222, 385, 113, 416, 190, 250, 6, 344, 207, 178, 359, 97, 243, 133, 45, 8, 296, 223, 143, 376, 114, 214, 52, 75, 208, 477, 234, 70, 230, 146, 280, 438, 142, 322, 98, 268, 360, 120, 379, 483, 419, 199, 371, 361, 269, 287, 36, 235, 423, 418, 425, 431, 490, 217, 134, 232, 15, 491, 62, 211, 131, 470, 306, 492, 107, 175, 194, 383, 454, 156, 315, 67, 3, 259, 272, 189, 225, 25, 177, 198, 53, 148, 372, 350, 20, 327, 253, 1, 495, 307, 319, 195, 160, 472, 282, 242, 2, 108, 304, 212, 82, 19, 193, 395, 124, 22, 294, 7, 348, 390, 339, 467, 38, 79, 336, 285, 151, 271, 314, 10, 275, 407, 84, 352, 456, 451, 37, 324, 174, 112, 28, 116, 46, 366, 302, 326, 138, 68, 251, 41, 26, 347, 463, 48, 132, 335, 165, 367, 356, 445, 466, 496, 63, 351, 260, 245, 139, 290, 252, 264, 188, 402, 30, 96, 452, 89, 473, 270, 80, 460, 71, 23, 381, 185, 102, 353, 90, 461, 448, 313, 85, 261, 429, 34, 110, 153, 219, 78, 399, 119, 92, 410, 298]\n"
     ]
    }
   ],
   "source": [
    "best=list(range(0,500))\n",
    "worst=best.copy()\n",
    "worst.reverse()\n",
    "average=best.copy()\n",
    "random.shuffle(average)\n",
    "print(average)"
   ]
  },
  {
   "cell_type": "code",
   "execution_count": 4,
   "id": "f918c786",
   "metadata": {},
   "outputs": [],
   "source": [
    "stmt1='bubblesort(best)'\n",
    "stmt2='bubblesort(average)'\n",
    "stmt3='bubblesort(worst)'"
   ]
  },
  {
   "cell_type": "code",
   "execution_count": 6,
   "id": "9035cc9a",
   "metadata": {},
   "outputs": [
    {
     "name": "stdout",
     "output_type": "stream",
     "text": [
      "0.01352295799999581 0.03870887499999753 0.031175916999998776\n"
     ]
    }
   ],
   "source": [
    "\n",
    "stmt1='bubblesort(best)'\n",
    "stmt2='bubblesort(average)'\n",
    "stmt3='bubblesort(worst)'\n",
    "setup1='''\n",
    "import random\n",
    "best=list(range(0,500))\n",
    "def bubblesort(arr):\n",
    "    n = len(arr)\n",
    "    swapped = False\n",
    "    for i in range(n-1):\n",
    "        for j in range(0, n-i-1):\n",
    "            if arr[j] > arr[j + 1]:\n",
    "                swapped = True\n",
    "                arr[j], arr[j + 1] = arr[j + 1], arr[j]\n",
    "         \n",
    "        if not swapped:\n",
    "            return\n",
    " \n",
    " '''\n",
    "setup2='''\n",
    "import random\n",
    "average=[]\n",
    "for i in range(500):\n",
    "    average.append(random.randint(0,500))\n",
    "random.shuffle(average)\n",
    "def bubblesort(arr):\n",
    "    n = len(arr)\n",
    "    swapped = False\n",
    "    for i in range(n-1):\n",
    "        for j in range(0, n-i-1):\n",
    "            if arr[j] > arr[j + 1]:\n",
    "                swapped = True\n",
    "                arr[j], arr[j + 1] = arr[j + 1], arr[j]\n",
    "         \n",
    "        if not swapped:\n",
    "            return\n",
    " \n",
    " '''\n",
    "setup3='''\n",
    "import random\n",
    "worst=list(range(0,500))\n",
    "worst.reverse()\n",
    "def bubblesort(arr):\n",
    "    n = len(arr)\n",
    "    swapped = False\n",
    "    for i in range(n-1):\n",
    "        for j in range(0, n-i-1):\n",
    "            if arr[j] > arr[j + 1]:\n",
    "                swapped = True\n",
    "                arr[j], arr[j + 1] = arr[j + 1], arr[j]\n",
    "         \n",
    "        if not swapped:\n",
    "            return\n",
    " \n",
    " '''\n",
    "x=timeit.timeit(stmt1,setup1,number=100)\n",
    "y=timeit.timeit(stmt2,setup2,number=100)\n",
    "z=timeit.timeit(stmt3,setup3,number=100)\n",
    "print(x,y,z)"
   ]
  },
  {
   "cell_type": "code",
   "execution_count": 5,
   "id": "7656c7b5",
   "metadata": {},
   "outputs": [],
   "source": [
    "bestcase=[]\n",
    "worstcase=[]\n",
    "averagecase=[]\n",
    "inputs=list(range(1000,2001,100))\n",
    "for i in inputs:\n",
    "    best=list(range(0,i))\n",
    "    worst=best.copy()\n",
    "    worst.reverse()\n",
    "    average=best.copy()\n",
    "    random.shuffle(average)\n",
    "    \n",
    "    starttime=time.time()\n",
    "    bubblesort(best)\n",
    "    endtime=time.time()-starttime\n",
    "    bestcase.append(endtime)\n",
    "    \n",
    "    starttime2=time.time()\n",
    "    bubblesort(average)\n",
    "    endtime2=time.time()-starttime\n",
    "    averagecase.append(endtime2)\n",
    "    \n",
    "    starttime3=time.time()\n",
    "    bubblesort(worst)\n",
    "    endtime3=time.time()-starttime\n",
    "    worstcase.append(endtime3)\n",
    "\n",
    "bestcase=np.array(bestcase)*1000\n",
    "worstcase=np.array(worstcase)*1000\n",
    "averagecase=np.array(averagecase)*1000"
   ]
  },
  {
   "cell_type": "code",
   "execution_count": 20,
   "id": "3b68269f",
   "metadata": {},
   "outputs": [
    {
     "data": {
      "image/png": "[encoded data removed]",
      "text/plain": [
       "<Figure size 504x504 with 1 Axes>"
      ]
     },
     "metadata": {
      "needs_background": "light"
     },
     "output_type": "display_data"
    }
   ],
   "source": [
    "plt.figure(figsize=(7,7))\n",
    "\n",
    "plt.plot(inputs,bestcase,color='g')\n",
    "plt.annotate('Worstcase input', xy =(1500, 500))\n",
    "plt.annotate('Bestcase input', xy =(1600, 10))\n",
    "plt.annotate('Averagecase input', xy =(1600, 250))\n",
    "plt.plot(inputs,worstcase,color='r')\n",
    "plt.plot(inputs,averagecase,color='y')\n",
    "plt.ylabel('Time(ms)')\n",
    "plt.xlabel('No. of inputs')\n",
    "plt.show()"
   ]
  },
  {
   "cell_type": "code",
   "execution_count": null,
   "id": "cb0fb52c",
   "metadata": {},
   "outputs": [],
   "source": []
  }
 ],
 "metadata": {
  "kernelspec": {
   "display_name": "Python 3 (ipykernel)",
   "language": "python",
   "name": "python3"
  },
  "language_info": {
   "codemirror_mode": {
    "name": "ipython",
    "version": 3
   },
   "file_extension": ".py",
   "mimetype": "text/x-python",
   "name": "python",
   "nbconvert_exporter": "python",
   "pygments_lexer": "ipython3",
   "version": "3.9.7"
  }
 },
 "nbformat": 4,
 "nbformat_minor": 5
}
