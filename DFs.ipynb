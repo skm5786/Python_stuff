{
 "cells": [
  {
   "cell_type": "code",
   "execution_count": 1,
   "id": "5ecfffb8",
   "metadata": {},
   "outputs": [],
   "source": [
    "adj_list={\n",
    "    'a':['b','d'],\n",
    "    'b':['a','c'],\n",
    "    'c':['b'],\n",
    "    'd':['a','e','f'],\n",
    "    'e':['d','f','g'],\n",
    "    'f':['d','e','h'],\n",
    "    'g':['e','h'],\n",
    "    'h':['g','f']\n",
    "}"
   ]
  },
  {
   "cell_type": "code",
   "execution_count": 10,
   "id": "3b8ab92f",
   "metadata": {},
   "outputs": [
    {
     "name": "stdout",
     "output_type": "stream",
     "text": [
      "{'a': False, 'b': False, 'c': False, 'd': False, 'e': False, 'f': False, 'g': False, 'h': False}\n",
      "{'a': None, 'b': None, 'c': None, 'd': None, 'e': None, 'f': None, 'g': None, 'h': None}\n",
      "['f', 'd', 'a', 'b', 'c', 'e', 'g', 'h']\n"
     ]
    }
   ],
   "source": [
    "visited={}\n",
    "parent={}\n",
    "dfs_output=[]\n",
    "#initialization\n",
    "for node in adj_list.keys():\n",
    "    visited[node]=False\n",
    "    parent[node]=None\n",
    "print(visited)\n",
    "print(parent)\n",
    "#recursive implementation\n",
    "\n",
    "def dfs_util(u):\n",
    "    dfs_output.append(u)\n",
    "    visited[u]=True\n",
    "    for v in adj_list[u]:\n",
    "        if visited[v]==False:\n",
    "            parent[v]=u\n",
    "            dfs_util(v)\n",
    "dfs_util('f')\n",
    "print(dfs_output)"
   ]
  },
  {
   "cell_type": "code",
   "execution_count": null,
   "id": "119875b6",
   "metadata": {},
   "outputs": [],
   "source": []
  },
  {
   "cell_type": "code",
   "execution_count": null,
   "id": "cdc0babb",
   "metadata": {},
   "outputs": [],
   "source": []
  }
 ],
 "metadata": {
  "kernelspec": {
   "display_name": "Python 3 (ipykernel)",
   "language": "python",
   "name": "python3"
  },
  "language_info": {
   "codemirror_mode": {
    "name": "ipython",
    "version": 3
   },
   "file_extension": ".py",
   "mimetype": "text/x-python",
   "name": "python",
   "nbconvert_exporter": "python",
   "pygments_lexer": "ipython3",
   "version": "3.9.7"
  }
 },
 "nbformat": 4,
 "nbformat_minor": 5
}
